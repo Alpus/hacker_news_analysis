{
 "cells": [
  {
   "cell_type": "code",
   "execution_count": 1,
   "metadata": {
    "collapsed": false
   },
   "outputs": [],
   "source": [
    "import os\n",
    "import pickle\n",
    "from collections import Counter\n",
    "from datetime import datetime, timedelta\n",
    "from functools import wraps\n",
    "from requests import ConnectionError\n",
    "\n",
    "from IPython.display import clear_output\n",
    "from hackernews import HackerNews, InvalidItemID"
   ]
  },
  {
   "cell_type": "code",
   "execution_count": 2,
   "metadata": {
    "collapsed": true
   },
   "outputs": [],
   "source": [
    "DATA_FOLDER = 'data'"
   ]
  },
  {
   "cell_type": "code",
   "execution_count": null,
   "metadata": {
    "collapsed": true
   },
   "outputs": [],
   "source": []
  },
  {
   "cell_type": "code",
   "execution_count": 3,
   "metadata": {
    "collapsed": false,
    "scrolled": true
   },
   "outputs": [],
   "source": [
    "# Hacker News API raise ConnectionError very often. This code fix it.\n",
    "\n",
    "def decorate_all_methods(decorator):\n",
    "    @wraps(decorator)\n",
    "    def decorate(cls):\n",
    "        for attr_name in cls.__dict__:\n",
    "            attr = getattr(cls, attr_name)\n",
    "            if callable(attr):\n",
    "                setattr(cls, attr_name, decorator(attr))\n",
    "        return cls\n",
    "    return decorate\n",
    "\n",
    "\n",
    "def try_to_reconnect(func):\n",
    "    @wraps(func)\n",
    "    def wrapper(*args, **kwargs):\n",
    "        while True:\n",
    "            try:\n",
    "                res = func(*args, **kwargs)\n",
    "            except ConnectionError:\n",
    "                continue\n",
    "            return res\n",
    "    return wrapper\n",
    "\n",
    "HackerNews = decorate_all_methods(try_to_reconnect)(HackerNews)"
   ]
  },
  {
   "cell_type": "code",
   "execution_count": 4,
   "metadata": {
    "collapsed": false
   },
   "outputs": [],
   "source": [
    "def mkdir_if_not_exists(folder_path):\n",
    "    if not os.path.isdir(folder_path):\n",
    "        os.mkdir(folder_path)\n",
    "\n",
    "\n",
    "class HNUser:\n",
    "    hn_api = HackerNews()\n",
    "        \n",
    "        \n",
    "class ExtendedItem(HNUser):\n",
    "    \"\"\"\n",
    "    Note:\n",
    "        Has all item's attrs\n",
    "    \"\"\"\n",
    "    \n",
    "    def __init__(self, item):\n",
    "        self.__dict__.update(item.__dict__)\n",
    "        self.kids = self.kids if self.kids is not None else []\n",
    "        \n",
    "\n",
    "class Comment(ExtendedItem):\n",
    "    \"\"\"\n",
    "    Note:\n",
    "        Has all ExtendedItem's attrs\n",
    "        \n",
    "    Attributes:\n",
    "        * subcomments (list): of Comments\n",
    "    \"\"\"\n",
    "    \n",
    "    def __init__(self, item):\n",
    "        super().__init__(item)\n",
    "        self.load_subcomments()\n",
    "    \n",
    "    def load_subcomments(self):\n",
    "        self.subcomments = []\n",
    "        for comment_id in self.kids:\n",
    "            try:\n",
    "                item_api = self.hn_api.get_item(comment_id)\n",
    "            except InvalidItemID:\n",
    "                continue\n",
    "            self.subcomments.append(Comment(item_api))\n",
    "        \n",
    "        \n",
    "class Post(ExtendedItem):\n",
    "    \"\"\"\n",
    "    Note:\n",
    "        Has all ExtendedItem's attrs\n",
    "        \n",
    "    Attributes:\n",
    "        * comments (list): of Comments\n",
    "    \"\"\"\n",
    "    \n",
    "    def __init__(self, item):\n",
    "        super().__init__(item)\n",
    "        self.load_comments()\n",
    "    \n",
    "    def load_comments(self):\n",
    "        self.comments = []\n",
    "        for comment_id in self.kids:\n",
    "            try:\n",
    "                item_api = self.hn_api.get_item(comment_id)\n",
    "            except InvalidItemID:\n",
    "                continue\n",
    "            self.comments.append(Comment(item_api))\n",
    "            \n",
    "    \n",
    "\n",
    "class HNDownloader(HNUser):\n",
    "    \"\"\"\n",
    "    HackerNews downloader\n",
    "    \n",
    "    Notes:\n",
    "        Uses unofficial python HN python wrapper (https://github.com/HackerNews/API)\n",
    "    \n",
    "    Args:\n",
    "        folder: for data storage\n",
    "    \"\"\"\n",
    "    \n",
    "    def __init__(self, folder=DATA_FOLDER):\n",
    "        self.folder = folder\n",
    "        \n",
    "    def download_last(self, last_days=182, types=('story', ), start_from_id=None):\n",
    "        \"\"\"\n",
    "        Download all needed data from HackerNews\n",
    "\n",
    "        Args:\n",
    "            types (iterable): list of types (“job”, “story”, “comment”, “poll”, “pollopt”).\n",
    "        \"\"\"\n",
    "        \n",
    "        start_from_id = self.hn_api.get_max_item() if start_from_id is None else start_from_id\n",
    "        saved = 0\n",
    "        stat = Counter()\n",
    "        \n",
    "        stop_cycle = False\n",
    "        \n",
    "        last_date = datetime.now()\n",
    "            \n",
    "        for item_number in range(start_from_id, 1, -1):\n",
    "            clear_output()\n",
    "            print('{}/{} watched | {} saved\\nlast_date: {}'.format(\n",
    "                item_number, start_from_id, saved,\n",
    "                last_date\n",
    "            ))\n",
    "            print(stat)\n",
    "            \n",
    "            try:\n",
    "                api_item = self.hn_api.get_item(item_number)\n",
    "            except InvalidItemID:\n",
    "                continue\n",
    "            \n",
    "            item = ExtendedItem(api_item)\n",
    "                \n",
    "            stat[item.item_type] += 1\n",
    "\n",
    "            if self.type_from_list(item, types):\n",
    "                if self.is_last_n_days(item, last_days):\n",
    "                    post = Post(item)\n",
    "                    self.save_post(post)\n",
    "                    saved += 1\n",
    "                    last_date = post.submission_time\n",
    "                else:\n",
    "                    stop_cycle = True\n",
    "            \n",
    "            if stop_cycle:\n",
    "                break\n",
    "        \n",
    "        print('Done!')\n",
    "    \n",
    "    def save_post(self, post):\n",
    "        with open(os.path.join(self.folder, str(post.item_id)), 'wb') as file:\n",
    "            pickle.dump(post, file)\n",
    "            \n",
    "    def is_last_n_days(self, item, last_days, from_time=datetime.now()):\n",
    "        return item.submission_time > from_time - timedelta(days=182)\n",
    "    \n",
    "    def type_from_list(self, item, types):\n",
    "        return item.item_type in types\n"
   ]
  },
  {
   "cell_type": "code",
   "execution_count": 5,
   "metadata": {
    "collapsed": true
   },
   "outputs": [],
   "source": [
    "hn_downloader = HNDownloader()"
   ]
  },
  {
   "cell_type": "code",
   "execution_count": 6,
   "metadata": {
    "collapsed": false,
    "scrolled": true
   },
   "outputs": [
    {
     "name": "stdout",
     "output_type": "stream",
     "text": [
      "15386321/15390001 watched | 438 saved\n",
      "last_date: 2017-10-02 21:13:54\n",
      "Counter({'comment': 3235, 'story': 438, 'job': 2})\n"
     ]
    },
    {
     "ename": "InvalidItemID",
     "evalue": "",
     "output_type": "error",
     "traceback": [
      "\u001b[0;31m---------------------------------------------------------------------------\u001b[0m",
      "\u001b[0;31mInvalidItemID\u001b[0m                             Traceback (most recent call last)",
      "\u001b[0;32m<ipython-input-6-4a0e9cd89a0c>\u001b[0m in \u001b[0;36m<module>\u001b[0;34m()\u001b[0m\n\u001b[0;32m----> 1\u001b[0;31m \u001b[0mhn_downloader\u001b[0m\u001b[0;34m.\u001b[0m\u001b[0mdownload_last\u001b[0m\u001b[0;34m(\u001b[0m\u001b[0mstart_from_id\u001b[0m\u001b[0;34m=\u001b[0m\u001b[0;36m15390001\u001b[0m\u001b[0;34m)\u001b[0m\u001b[0;34m\u001b[0m\u001b[0m\n\u001b[0m",
      "\u001b[0;32m<ipython-input-4-58c5653a0410>\u001b[0m in \u001b[0;36mdownload_last\u001b[0;34m(self, last_days, types, start_from_id)\u001b[0m\n\u001b[1;32m    107\u001b[0m             \u001b[0;32mif\u001b[0m \u001b[0mself\u001b[0m\u001b[0;34m.\u001b[0m\u001b[0mtype_from_list\u001b[0m\u001b[0;34m(\u001b[0m\u001b[0mitem\u001b[0m\u001b[0;34m,\u001b[0m \u001b[0mtypes\u001b[0m\u001b[0;34m)\u001b[0m\u001b[0;34m:\u001b[0m\u001b[0;34m\u001b[0m\u001b[0m\n\u001b[1;32m    108\u001b[0m                 \u001b[0;32mif\u001b[0m \u001b[0mself\u001b[0m\u001b[0;34m.\u001b[0m\u001b[0mis_last_n_days\u001b[0m\u001b[0;34m(\u001b[0m\u001b[0mitem\u001b[0m\u001b[0;34m,\u001b[0m \u001b[0mlast_days\u001b[0m\u001b[0;34m)\u001b[0m\u001b[0;34m:\u001b[0m\u001b[0;34m\u001b[0m\u001b[0m\n\u001b[0;32m--> 109\u001b[0;31m                     \u001b[0mpost\u001b[0m \u001b[0;34m=\u001b[0m \u001b[0mPost\u001b[0m\u001b[0;34m(\u001b[0m\u001b[0mitem\u001b[0m\u001b[0;34m)\u001b[0m\u001b[0;34m\u001b[0m\u001b[0m\n\u001b[0m\u001b[1;32m    110\u001b[0m                     \u001b[0mself\u001b[0m\u001b[0;34m.\u001b[0m\u001b[0msave_post\u001b[0m\u001b[0;34m(\u001b[0m\u001b[0mpost\u001b[0m\u001b[0;34m)\u001b[0m\u001b[0;34m\u001b[0m\u001b[0m\n\u001b[1;32m    111\u001b[0m                     \u001b[0msaved\u001b[0m \u001b[0;34m+=\u001b[0m \u001b[0;36m1\u001b[0m\u001b[0;34m\u001b[0m\u001b[0m\n",
      "\u001b[0;32m<ipython-input-4-58c5653a0410>\u001b[0m in \u001b[0;36m__init__\u001b[0;34m(self, item)\u001b[0m\n\u001b[1;32m     49\u001b[0m     \u001b[0;32mdef\u001b[0m \u001b[0m__init__\u001b[0m\u001b[0;34m(\u001b[0m\u001b[0mself\u001b[0m\u001b[0;34m,\u001b[0m \u001b[0mitem\u001b[0m\u001b[0;34m)\u001b[0m\u001b[0;34m:\u001b[0m\u001b[0;34m\u001b[0m\u001b[0m\n\u001b[1;32m     50\u001b[0m         \u001b[0msuper\u001b[0m\u001b[0;34m(\u001b[0m\u001b[0;34m)\u001b[0m\u001b[0;34m.\u001b[0m\u001b[0m__init__\u001b[0m\u001b[0;34m(\u001b[0m\u001b[0mitem\u001b[0m\u001b[0;34m)\u001b[0m\u001b[0;34m\u001b[0m\u001b[0m\n\u001b[0;32m---> 51\u001b[0;31m         \u001b[0mself\u001b[0m\u001b[0;34m.\u001b[0m\u001b[0mload_comments\u001b[0m\u001b[0;34m(\u001b[0m\u001b[0;34m)\u001b[0m\u001b[0;34m\u001b[0m\u001b[0m\n\u001b[0m\u001b[1;32m     52\u001b[0m \u001b[0;34m\u001b[0m\u001b[0m\n\u001b[1;32m     53\u001b[0m     \u001b[0;32mdef\u001b[0m \u001b[0mload_comments\u001b[0m\u001b[0;34m(\u001b[0m\u001b[0mself\u001b[0m\u001b[0;34m)\u001b[0m\u001b[0;34m:\u001b[0m\u001b[0;34m\u001b[0m\u001b[0m\n",
      "\u001b[0;32m<ipython-input-4-58c5653a0410>\u001b[0m in \u001b[0;36mload_comments\u001b[0;34m(self)\u001b[0m\n\u001b[1;32m     54\u001b[0m         \u001b[0mself\u001b[0m\u001b[0;34m.\u001b[0m\u001b[0mcomments\u001b[0m \u001b[0;34m=\u001b[0m \u001b[0;34m[\u001b[0m\u001b[0;34m]\u001b[0m\u001b[0;34m\u001b[0m\u001b[0m\n\u001b[1;32m     55\u001b[0m         \u001b[0;32mfor\u001b[0m \u001b[0mcomment_id\u001b[0m \u001b[0;32min\u001b[0m \u001b[0mself\u001b[0m\u001b[0;34m.\u001b[0m\u001b[0mkids\u001b[0m\u001b[0;34m:\u001b[0m\u001b[0;34m\u001b[0m\u001b[0m\n\u001b[0;32m---> 56\u001b[0;31m             \u001b[0mself\u001b[0m\u001b[0;34m.\u001b[0m\u001b[0mcomments\u001b[0m\u001b[0;34m.\u001b[0m\u001b[0mappend\u001b[0m\u001b[0;34m(\u001b[0m\u001b[0mComment\u001b[0m\u001b[0;34m(\u001b[0m\u001b[0mself\u001b[0m\u001b[0;34m.\u001b[0m\u001b[0mhn_api\u001b[0m\u001b[0;34m.\u001b[0m\u001b[0mget_item\u001b[0m\u001b[0;34m(\u001b[0m\u001b[0mcomment_id\u001b[0m\u001b[0;34m)\u001b[0m\u001b[0;34m)\u001b[0m\u001b[0;34m)\u001b[0m\u001b[0;34m\u001b[0m\u001b[0m\n\u001b[0m\u001b[1;32m     57\u001b[0m \u001b[0;34m\u001b[0m\u001b[0m\n\u001b[1;32m     58\u001b[0m \u001b[0;34m\u001b[0m\u001b[0m\n",
      "\u001b[0;32m<ipython-input-4-58c5653a0410>\u001b[0m in \u001b[0;36m__init__\u001b[0;34m(self, item)\u001b[0m\n\u001b[1;32m     30\u001b[0m     \u001b[0;32mdef\u001b[0m \u001b[0m__init__\u001b[0m\u001b[0;34m(\u001b[0m\u001b[0mself\u001b[0m\u001b[0;34m,\u001b[0m \u001b[0mitem\u001b[0m\u001b[0;34m)\u001b[0m\u001b[0;34m:\u001b[0m\u001b[0;34m\u001b[0m\u001b[0m\n\u001b[1;32m     31\u001b[0m         \u001b[0msuper\u001b[0m\u001b[0;34m(\u001b[0m\u001b[0;34m)\u001b[0m\u001b[0;34m.\u001b[0m\u001b[0m__init__\u001b[0m\u001b[0;34m(\u001b[0m\u001b[0mitem\u001b[0m\u001b[0;34m)\u001b[0m\u001b[0;34m\u001b[0m\u001b[0m\n\u001b[0;32m---> 32\u001b[0;31m         \u001b[0mself\u001b[0m\u001b[0;34m.\u001b[0m\u001b[0mload_subcomments\u001b[0m\u001b[0;34m(\u001b[0m\u001b[0;34m)\u001b[0m\u001b[0;34m\u001b[0m\u001b[0m\n\u001b[0m\u001b[1;32m     33\u001b[0m \u001b[0;34m\u001b[0m\u001b[0m\n\u001b[1;32m     34\u001b[0m     \u001b[0;32mdef\u001b[0m \u001b[0mload_subcomments\u001b[0m\u001b[0;34m(\u001b[0m\u001b[0mself\u001b[0m\u001b[0;34m)\u001b[0m\u001b[0;34m:\u001b[0m\u001b[0;34m\u001b[0m\u001b[0m\n",
      "\u001b[0;32m<ipython-input-4-58c5653a0410>\u001b[0m in \u001b[0;36mload_subcomments\u001b[0;34m(self)\u001b[0m\n\u001b[1;32m     35\u001b[0m         \u001b[0mself\u001b[0m\u001b[0;34m.\u001b[0m\u001b[0msubcomments\u001b[0m \u001b[0;34m=\u001b[0m \u001b[0;34m[\u001b[0m\u001b[0;34m]\u001b[0m\u001b[0;34m\u001b[0m\u001b[0m\n\u001b[1;32m     36\u001b[0m         \u001b[0;32mfor\u001b[0m \u001b[0mcomment_id\u001b[0m \u001b[0;32min\u001b[0m \u001b[0mself\u001b[0m\u001b[0;34m.\u001b[0m\u001b[0mkids\u001b[0m\u001b[0;34m:\u001b[0m\u001b[0;34m\u001b[0m\u001b[0m\n\u001b[0;32m---> 37\u001b[0;31m             \u001b[0mself\u001b[0m\u001b[0;34m.\u001b[0m\u001b[0msubcomments\u001b[0m\u001b[0;34m.\u001b[0m\u001b[0mappend\u001b[0m\u001b[0;34m(\u001b[0m\u001b[0mComment\u001b[0m\u001b[0;34m(\u001b[0m\u001b[0mself\u001b[0m\u001b[0;34m.\u001b[0m\u001b[0mhn_api\u001b[0m\u001b[0;34m.\u001b[0m\u001b[0mget_item\u001b[0m\u001b[0;34m(\u001b[0m\u001b[0mcomment_id\u001b[0m\u001b[0;34m)\u001b[0m\u001b[0;34m)\u001b[0m\u001b[0;34m)\u001b[0m\u001b[0;34m\u001b[0m\u001b[0m\n\u001b[0m\u001b[1;32m     38\u001b[0m \u001b[0;34m\u001b[0m\u001b[0m\n\u001b[1;32m     39\u001b[0m \u001b[0;34m\u001b[0m\u001b[0m\n",
      "\u001b[0;32m<ipython-input-3-57227e7dea40>\u001b[0m in \u001b[0;36mwrapper\u001b[0;34m(*args, **kwargs)\u001b[0m\n\u001b[1;32m     17\u001b[0m         \u001b[0;32mwhile\u001b[0m \u001b[0;32mTrue\u001b[0m\u001b[0;34m:\u001b[0m\u001b[0;34m\u001b[0m\u001b[0m\n\u001b[1;32m     18\u001b[0m             \u001b[0;32mtry\u001b[0m\u001b[0;34m:\u001b[0m\u001b[0;34m\u001b[0m\u001b[0m\n\u001b[0;32m---> 19\u001b[0;31m                 \u001b[0mres\u001b[0m \u001b[0;34m=\u001b[0m \u001b[0mfunc\u001b[0m\u001b[0;34m(\u001b[0m\u001b[0;34m*\u001b[0m\u001b[0margs\u001b[0m\u001b[0;34m,\u001b[0m \u001b[0;34m**\u001b[0m\u001b[0mkwargs\u001b[0m\u001b[0;34m)\u001b[0m\u001b[0;34m\u001b[0m\u001b[0m\n\u001b[0m\u001b[1;32m     20\u001b[0m             \u001b[0;32mexcept\u001b[0m \u001b[0mConnectionError\u001b[0m\u001b[0;34m:\u001b[0m\u001b[0;34m\u001b[0m\u001b[0m\n\u001b[1;32m     21\u001b[0m                 \u001b[0;32mcontinue\u001b[0m\u001b[0;34m\u001b[0m\u001b[0m\n",
      "\u001b[0;32m/usr/local/lib/python3.5/dist-packages/hackernews/__init__.py\u001b[0m in \u001b[0;36mget_item\u001b[0;34m(self, item_id)\u001b[0m\n\u001b[1;32m    103\u001b[0m \u001b[0;34m\u001b[0m\u001b[0m\n\u001b[1;32m    104\u001b[0m         \u001b[0;32mif\u001b[0m \u001b[0;32mnot\u001b[0m \u001b[0mresponse\u001b[0m\u001b[0;34m:\u001b[0m\u001b[0;34m\u001b[0m\u001b[0m\n\u001b[0;32m--> 105\u001b[0;31m             \u001b[0;32mraise\u001b[0m \u001b[0mInvalidItemID\u001b[0m\u001b[0;34m\u001b[0m\u001b[0m\n\u001b[0m\u001b[1;32m    106\u001b[0m \u001b[0;34m\u001b[0m\u001b[0m\n\u001b[1;32m    107\u001b[0m         \u001b[0;32mreturn\u001b[0m \u001b[0mItem\u001b[0m\u001b[0;34m(\u001b[0m\u001b[0mresponse\u001b[0m\u001b[0;34m)\u001b[0m\u001b[0;34m\u001b[0m\u001b[0m\n",
      "\u001b[0;31mInvalidItemID\u001b[0m: "
     ]
    }
   ],
   "source": [
    "hn_downloader.download_last(start_from_id=15386321)"
   ]
  },
  {
   "cell_type": "code",
   "execution_count": null,
   "metadata": {
    "collapsed": true
   },
   "outputs": [],
   "source": []
  }
 ],
 "metadata": {
  "kernelspec": {
   "display_name": "Python 3",
   "language": "python",
   "name": "python3"
  },
  "language_info": {
   "codemirror_mode": {
    "name": "ipython",
    "version": 3
   },
   "file_extension": ".py",
   "mimetype": "text/x-python",
   "name": "python",
   "nbconvert_exporter": "python",
   "pygments_lexer": "ipython3",
   "version": "3.5.2"
  }
 },
 "nbformat": 4,
 "nbformat_minor": 2
}
